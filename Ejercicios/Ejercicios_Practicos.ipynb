{
 "cells": [
  {
   "cell_type": "markdown",
   "metadata": {},
   "source": [
    "# EJERCICIO 1"
   ]
  },
  {
   "cell_type": "code",
   "execution_count": 1,
   "metadata": {},
   "outputs": [
    {
     "name": "stdout",
     "output_type": "stream",
     "text": [
      "Edad actual: 23\n",
      "IMC: 0.04\n",
      "Edad actual:23\n"
     ]
    }
   ],
   "source": [
    "# # --------------------- EJERCICIO 1 ----------------------------------\n",
    "# Variables numéricas\n",
    "edad = int(input('Ingrese la edad: '))  # Entero\n",
    "altura = float(input('Ingrese la Altura: '))  # Flotante\n",
    "peso = float(input('Ingrese el Peso: ')) # Flotante\n",
    "\n",
    "# Operaciones matemáticas\n",
    "imc = peso / (altura ** 2)  # Cálculo del índice de masa corporal\n",
    "\n",
    "# Mostrar resultados\n",
    "print(\"Edad actual:\", edad)\n",
    "print(\"IMC:\", round(imc, 2))  # Redondear a 2 decimales\n",
    "\n",
    "print(\"Edad actual:\" + str(edad))\n",
    "\n",
    "x = input('Ingrese un valor: ')"
   ]
  },
  {
   "cell_type": "markdown",
   "metadata": {},
   "source": [
    "# Ejercicio 2"
   ]
  },
  {
   "cell_type": "code",
   "execution_count": null,
   "metadata": {},
   "outputs": [],
   "source": [
    "# Solicitar los puntos al usuario\n",
    "x1 = float(input(\"Ingresa la coordenada x1: \"))\n",
    "y1 = float(input(\"Ingresa la coordenada y1: \"))\n",
    "x2 = float(input(\"Ingresa la coordenada x2: \"))\n",
    "y2 = float(input(\"Ingresa la coordenada y2: \"))\n",
    "\n",
    "# Calcular la pendiente (m)\n",
    "m = (y2 - y1) / (x2 - x1)\n",
    "print(\"La pendiente de la recta es: {}, {}\".format(round(m, 2), 5))"
   ]
  },
  {
   "cell_type": "markdown",
   "metadata": {},
   "source": [
    "# Ejercicio 3"
   ]
  },
  {
   "cell_type": "code",
   "execution_count": 9,
   "metadata": {},
   "outputs": [
    {
     "name": "stdout",
     "output_type": "stream",
     "text": [
      "El número 1 es impar.\n"
     ]
    }
   ],
   "source": [
    "numero = int(input(\"Ingrese un número: \"))\n",
    "\n",
    "# Verificar si es par o impar\n",
    "if numero % 2 == 0:  \n",
    "    print(\"El número {} es par.\".format((numero)))\n",
    "else:\n",
    "    print(\"El número {} es impar.\".format((numero)))\n"
   ]
  },
  {
   "cell_type": "code",
   "execution_count": null,
   "metadata": {},
   "outputs": [],
   "source": []
  },
  {
   "cell_type": "code",
   "execution_count": 1,
   "metadata": {},
   "outputs": [
    {
     "name": "stdout",
     "output_type": "stream",
     "text": [
      "   A  B\n",
      "0  1  4\n",
      "1  2  5\n",
      "2  3  6\n"
     ]
    }
   ],
   "source": [
    "import pandas as pd1235\n",
    "\n",
    "pf1235 = pd1235.DataFrame({'A': [1, 2, 3], 'B': [4, 5, 6]})\n",
    "print(pf1235)"
   ]
  },
  {
   "cell_type": "code",
   "execution_count": 1,
   "metadata": {},
   "outputs": [
    {
     "name": "stdout",
     "output_type": "stream",
     "text": [
      "  Producto  Precio  Stock\n",
      "0   Laptop    1000     50\n",
      "1  Celular     500    100\n",
      "2   Tablet     300     30\n"
     ]
    }
   ],
   "source": [
    "import pandas as pd\n",
    "df = pd.read_pickle(r\"Datasets/dataset_productos.pkl\")\n",
    "print(df.head())\n"
   ]
  }
 ],
 "metadata": {
  "kernelspec": {
   "display_name": "venv",
   "language": "python",
   "name": "python3"
  },
  "language_info": {
   "codemirror_mode": {
    "name": "ipython",
    "version": 3
   },
   "file_extension": ".py",
   "mimetype": "text/x-python",
   "name": "python",
   "nbconvert_exporter": "python",
   "pygments_lexer": "ipython3",
   "version": "3.12.5"
  }
 },
 "nbformat": 4,
 "nbformat_minor": 2
}
